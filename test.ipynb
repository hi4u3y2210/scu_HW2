{
 "cells": [
  {
   "cell_type": "markdown",
   "metadata": {},
   "source": [
    "HW 2-1"
   ]
  },
  {
   "cell_type": "code",
   "execution_count": 1,
   "metadata": {},
   "outputs": [],
   "source": [
    "import os"
   ]
  },
  {
   "cell_type": "code",
   "execution_count": 2,
   "metadata": {},
   "outputs": [],
   "source": [
    "path = \"C:/Users/user/Desktop/hw2\""
   ]
  },
  {
   "cell_type": "code",
   "execution_count": 3,
   "metadata": {},
   "outputs": [],
   "source": [
    "L = [0]\n",
    "def find_dir(dir, n):\n",
    "    global L\n",
    "    fds = sorted(os.listdir(dir))\n",
    "    for i in fds:\n",
    "        full_path = f\"{dir}/{i}\"\n",
    "        if os.path.isdir(full_path):\n",
    "            L[-1] += 1\n",
    "            L.append(0)\n",
    "            print(f\"{n*'  '}{L[:-1]} folder {full_path}\")\n",
    "            find_dir(full_path, n + 1)\n",
    "            L = L[:-1]\n",
    "        else:\n",
    "            L[-1] += 1\n",
    "            print(f\"{n*'  '}{L} {i}\")"
   ]
  },
  {
   "cell_type": "code",
   "execution_count": 4,
   "metadata": {},
   "outputs": [
    {
     "name": "stdout",
     "output_type": "stream",
     "text": [
      "[1] folder C:/Users/user/Desktop/hw2/hw2-1\n",
      "  [1, 1] folder C:/Users/user/Desktop/hw2/hw2-1/hw2-1-1\n",
      "    [1, 1, 1] test2-1-1.docx\n",
      "    [1, 1, 2] test2-1-1.txt\n",
      "    [1, 1, 3] test2-1-1.xlsx\n",
      "  [1, 2] test2-1.docx\n",
      "  [1, 3] test2-1.txt\n",
      "  [1, 4] test2-1.xlsx\n",
      "[2] test.docx\n",
      "[3] test.txt\n",
      "[4] test.xlsx\n"
     ]
    }
   ],
   "source": [
    "find_dir(path, 0)"
   ]
  },
  {
   "cell_type": "code",
   "execution_count": null,
   "metadata": {},
   "outputs": [],
   "source": []
  },
  {
   "cell_type": "markdown",
   "metadata": {},
   "source": [
    "HW 2-2"
   ]
  },
  {
   "cell_type": "code",
   "execution_count": 5,
   "metadata": {},
   "outputs": [],
   "source": [
    "import os\n",
    "from shutil import copyfile"
   ]
  },
  {
   "cell_type": "code",
   "execution_count": 6,
   "metadata": {},
   "outputs": [],
   "source": [
    "path = \"C:/Users/user/Desktop/hw2\""
   ]
  },
  {
   "cell_type": "code",
   "execution_count": 7,
   "metadata": {},
   "outputs": [],
   "source": [
    "ex_list = []\n",
    "def find_ex(dir):\n",
    "    global path\n",
    "    global ex_list\n",
    "    fds = os.listdir(dir)\n",
    "    for i in fds:\n",
    "        full_path = f\"{dir}/{i}\"\n",
    "        if os.path.isdir(full_path):\n",
    "            find_ex(full_path)\n",
    "        else:\n",
    "            name = i.split(\".\")\n",
    "            if name[-1] not in ex_list:\n",
    "                ex_list.append(name[-1])\n",
    "                try:\n",
    "                    os.mkdir(f\"{path}/{name[-1]}\")\n",
    "                except:\n",
    "                    pass\n",
    "            from_file = full_path\n",
    "            to_file = f\"{path}/{name[-1]}/{i}\"\n",
    "            copyfile(from_file, to_file)"
   ]
  },
  {
   "cell_type": "code",
   "execution_count": 8,
   "metadata": {},
   "outputs": [],
   "source": [
    "find_ex(path)"
   ]
  },
  {
   "cell_type": "code",
   "execution_count": 9,
   "metadata": {},
   "outputs": [
    {
     "name": "stdout",
     "output_type": "stream",
     "text": [
      "[1] folder C:/Users/user/Desktop/hw2/docx\n",
      "  [1, 1] test.docx\n",
      "  [1, 2] test2-1-1.docx\n",
      "  [1, 3] test2-1.docx\n",
      "[2] folder C:/Users/user/Desktop/hw2/hw2-1\n",
      "  [2, 1] folder C:/Users/user/Desktop/hw2/hw2-1/hw2-1-1\n",
      "    [2, 1, 1] test2-1-1.docx\n",
      "    [2, 1, 2] test2-1-1.txt\n",
      "    [2, 1, 3] test2-1-1.xlsx\n",
      "  [2, 2] test2-1.docx\n",
      "  [2, 3] test2-1.txt\n",
      "  [2, 4] test2-1.xlsx\n",
      "[3] test.docx\n",
      "[4] test.txt\n",
      "[5] test.xlsx\n",
      "[6] folder C:/Users/user/Desktop/hw2/txt\n",
      "  [6, 1] test.txt\n",
      "  [6, 2] test2-1-1.txt\n",
      "  [6, 3] test2-1.txt\n",
      "[7] folder C:/Users/user/Desktop/hw2/xlsx\n",
      "  [7, 1] test.xlsx\n",
      "  [7, 2] test2-1-1.xlsx\n",
      "  [7, 3] test2-1.xlsx\n"
     ]
    }
   ],
   "source": [
    "L = [0]\n",
    "find_dir(path, 0)"
   ]
  },
  {
   "cell_type": "code",
   "execution_count": null,
   "metadata": {},
   "outputs": [],
   "source": []
  }
 ],
 "metadata": {
  "kernelspec": {
   "display_name": "Python 3.7.4 64-bit",
   "language": "python",
   "name": "python37464bitd21df0a45dd94cd184250f991eda3780"
  },
  "language_info": {
   "codemirror_mode": {
    "name": "ipython",
    "version": 3
   },
   "file_extension": ".py",
   "mimetype": "text/x-python",
   "name": "python",
   "nbconvert_exporter": "python",
   "pygments_lexer": "ipython3",
   "version": "3.7.4"
  }
 },
 "nbformat": 4,
 "nbformat_minor": 2
}
